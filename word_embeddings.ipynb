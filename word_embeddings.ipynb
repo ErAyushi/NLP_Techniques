{
  "nbformat": 4,
  "nbformat_minor": 0,
  "metadata": {
    "colab": {
      "provenance": []
    },
    "kernelspec": {
      "name": "python3",
      "display_name": "Python 3"
    },
    "language_info": {
      "name": "python"
    }
  },
  "cells": [
    {
      "cell_type": "code",
      "execution_count": 46,
      "metadata": {
        "colab": {
          "base_uri": "https://localhost:8080/"
        },
        "id": "uR7-Gxy5wipV",
        "outputId": "fa6d8256-8633-4681-c1c9-7bb4f4d17788"
      },
      "outputs": [
        {
          "output_type": "stream",
          "name": "stdout",
          "text": [
            "આકાશ: [ 0.23666378 -0.14773269]\n",
            "પાણી: [-0.79877246  0.40164146]\n",
            "ખેત: [ 0.36828548 -0.45821984]\n",
            "સુરજ: [ 0.75433829 -0.90230139]\n",
            "ચાંદ: [-0.56339504 -0.6421693 ]\n",
            "પુસ્તક: [ 0.43372126 -0.81318839]\n",
            "પરીક્ષા: [-0.26392213  0.42155161]\n",
            "વિજ્ઞાન: [ 0.67283907 -0.35878316]\n"
          ]
        }
      ],
      "source": [
        "from collections import defaultdict\n",
        "import numpy as np\n",
        "\n",
        "corpus = ['આકાશ', 'પાણી', 'ખેત', 'સુરજ', 'ચાંદ', 'પુસ્તક', 'પરીક્ષા', 'વિજ્ઞાન']\n",
        "\n",
        "word_index = defaultdict(lambda: len(word_index))\n",
        "sequences = [[word_index[word] for word in sentence.split()] for sentence in corpus]\n",
        "\n",
        "embedding_dim = 2\n",
        "word_embeddings = np.random.randn(len(word_index), embedding_dim)\n",
        "\n",
        "for word, idx in word_index.items():\n",
        "    print(f'{word}: {word_embeddings[idx]}')\n"
      ]
    },
    {
      "cell_type": "markdown",
      "source": [
        "Glove"
      ],
      "metadata": {
        "id": "KIjosEbV4Ie0"
      }
    },
    {
      "cell_type": "code",
      "source": [
        "#importing libraries\n",
        "from tensorflow.keras.preprocessing.text import Tokenizer\n",
        "from tensorflow.keras.preprocessing.sequence import pad_sequences\n",
        "import numpy as np\n",
        "\n",
        "x = {'processing', 'the', 'world', 'prime',\n",
        "\t'natural', 'language'}\n",
        "\n",
        "# create the dictionary\n",
        "tokenizer = Tokenizer()\n",
        "tokenizer.fit_on_texts(x)\n",
        "\n",
        "#this will print the dictionary of the words mapped with their indexes\n",
        "print(\"Dictionary is = \", tokenizer.word_index)\n",
        "\n",
        "def embedding_vocab(filepath, word_index,embedding_dim):\n",
        "\tvocab_size = len(word_index) + 1\n",
        "\n",
        "\n",
        "\tembedding_matrix_vocab = np.zeros((vocab_size,\n",
        "\t\t\t\t\t\t\t\t\tembedding_dim))\n",
        "\n",
        "\twith open(filepath, encoding=\"utf8\") as f:\n",
        "\t\tfor line in f:\n",
        "\t\t\tword, *vector = line.split()\n",
        "\t\t\tif word in word_index:\n",
        "\t\t\t\tidx = word_index[word]\n",
        "\t\t\t\tembedding_matrix_vocab[idx] = np.array(\n",
        "\t\t\t\t\tvector, dtype=np.float32)[:embedding_dim]\n",
        "\treturn embedding_matrix_vocab\n",
        "#matrix\n",
        "embedding_dim = 50\n",
        "embedding_matrix_vocab = embedding_vocab(\n",
        "\t'/content/glove.6B.50d.txt', tokenizer.word_index,\n",
        "embedding_dim)\n",
        "\n",
        "print(\"embedding for first word is => \",embedding_matrix_vocab[1])\n",
        "\n"
      ],
      "metadata": {
        "colab": {
          "base_uri": "https://localhost:8080/"
        },
        "id": "SpcLLzDx4IMw",
        "outputId": "cf490b71-47f3-4082-a9cf-4bfde1de647d"
      },
      "execution_count": 40,
      "outputs": [
        {
          "output_type": "stream",
          "name": "stdout",
          "text": [
            "Dictionary is =  {'prime': 1, 'the': 2, 'language': 3, 'world': 4, 'natural': 5, 'processing': 6}\n",
            "embedding for first word is =>  [ 0.50795001  0.69881999  0.41468     0.49972999  0.82731003  0.58882999\n",
            " -0.43408     0.21703    -1.81809998 -0.74273998 -0.17991     0.28492999\n",
            " -0.16937     0.87449002  0.55294001  0.91030997  0.21957    -0.4851\n",
            "  0.75489002  0.52341998  0.5438      0.10108    -0.07919    -0.11478\n",
            "  0.29473999 -1.60039997  0.52854002  0.04084    -0.7198      1.93540001\n",
            "  2.81900001  0.60715997 -1.12080002  0.057194    0.14309999  0.47372001\n",
            "  0.59581     0.11381    -0.79955    -0.28086999 -0.32896999  1.32560003\n",
            " -1.18040001 -1.38600004  0.20202     0.51486999 -1.90680003  0.65419\n",
            "  1.72459996 -0.6013    ]\n"
          ]
        }
      ]
    },
    {
      "cell_type": "markdown",
      "source": [
        "**word** **embeddings** **from** **scratch**\n",
        "\n",
        "\n"
      ],
      "metadata": {
        "id": "ZYQu2uQZE_Pn"
      }
    },
    {
      "cell_type": "markdown",
      "source": [
        "load_data"
      ],
      "metadata": {
        "id": "CqPeo7ZR93T7"
      }
    },
    {
      "cell_type": "code",
      "source": [
        "file = open('/content/text_data.txt', 'r')\n",
        "text = file.readlines()\n",
        "print(text)\n",
        "file.close()"
      ],
      "metadata": {
        "colab": {
          "base_uri": "https://localhost:8080/"
        },
        "id": "cwhbFhyP8bFP",
        "outputId": "57e6e413-e3cb-45a7-8986-31665bd7763b"
      },
      "execution_count": null,
      "outputs": [
        {
          "output_type": "stream",
          "name": "stdout",
          "text": [
            "['Machine learning is the study of computer algorithms that \\n', 'improve automatically through experience. It is seen as a \\n', 'subset of artificial intelligence. Machine learning algorithms \\n', 'build a mathematical model based on sample data, known as \\n', 'training data, in order to make predictions or decisions without \\n', 'being explicitly programmed to do so. Machine learning algorithms \\n', 'are used in a wide variety of applications, such as email filtering \\n', 'and computer vision, where it is difficult or infeasible to develop \\n', 'conventional algorithms to perform the needed tasks.\\n']\n"
          ]
        }
      ]
    },
    {
      "cell_type": "markdown",
      "source": [
        "remove \\n"
      ],
      "metadata": {
        "id": "JTFnzJqt96MK"
      }
    },
    {
      "cell_type": "code",
      "source": [
        "for i in range(len(text)):\n",
        "    text[i] = text[i].lower().replace('\\n', '')\n",
        "\n",
        "print(text)"
      ],
      "metadata": {
        "colab": {
          "base_uri": "https://localhost:8080/"
        },
        "id": "nHF4HhVRw6KK",
        "outputId": "227de380-3f1a-449d-9679-23d5c0baa360"
      },
      "execution_count": null,
      "outputs": [
        {
          "output_type": "stream",
          "name": "stdout",
          "text": [
            "['machine learning is the study of computer algorithms that ', 'improve automatically through experience. it is seen as a ', 'subset of artificial intelligence. machine learning algorithms ', 'build a mathematical model based on sample data, known as ', 'training data, in order to make predictions or decisions without ', 'being explicitly programmed to do so. machine learning algorithms ', 'are used in a wide variety of applications, such as email filtering ', 'and computer vision, where it is difficult or infeasible to develop ', 'conventional algorithms to perform the needed tasks.']\n"
          ]
        }
      ]
    },
    {
      "cell_type": "markdown",
      "source": [
        "stopwords fillter"
      ],
      "metadata": {
        "id": "gdiovlp899Ba"
      }
    },
    {
      "cell_type": "code",
      "source": [
        "stopwords = ['the', 'are', 'as', 'do' , 'in', 'of','on','or', 'so', 'that', 'to', 'is', 'will', 'be', 'a', 'only', 'can', 'their', 'now', 'and', 'at', 'it']\n",
        "\n",
        "filtered_data = []\n",
        "for sent in text:\n",
        "    temp = []\n",
        "    for word in sent.split():\n",
        "        if word not in stopwords:\n",
        "            temp.append(word)\n",
        "    filtered_data.append(temp)\n",
        "\n",
        "print(filtered_data)"
      ],
      "metadata": {
        "colab": {
          "base_uri": "https://localhost:8080/"
        },
        "id": "36zv_QkMw7sb",
        "outputId": "18bb5ae9-b3f1-4590-ba31-761acee1a3cd"
      },
      "execution_count": null,
      "outputs": [
        {
          "output_type": "stream",
          "name": "stdout",
          "text": [
            "[['machine', 'learning', 'study', 'computer', 'algorithms'], ['improve', 'automatically', 'through', 'experience.', 'seen'], ['subset', 'artificial', 'intelligence.', 'machine', 'learning', 'algorithms'], ['build', 'mathematical', 'model', 'based', 'sample', 'data,', 'known'], ['training', 'data,', 'order', 'make', 'predictions', 'decisions', 'without'], ['being', 'explicitly', 'programmed', 'so.', 'machine', 'learning', 'algorithms'], ['used', 'wide', 'variety', 'applications,', 'such', 'email', 'filtering'], ['computer', 'vision,', 'where', 'difficult', 'infeasible', 'develop'], ['conventional', 'algorithms', 'perform', 'needed', 'tasks.']]\n"
          ]
        }
      ]
    },
    {
      "cell_type": "markdown",
      "source": [
        "bigrams"
      ],
      "metadata": {
        "id": "6EHZYDUn-CvP"
      }
    },
    {
      "cell_type": "code",
      "source": [
        "bigrams = []\n",
        "for words_list in filtered_data:\n",
        "    for i in range(len(words_list) - 1):\n",
        "        for j in range(i+1, len(words_list)):\n",
        "            bigrams.append([words_list[i], words_list[j]])\n",
        "            bigrams.append([words_list[j], words_list[i]])\n",
        "\n",
        "\n",
        "print(bigrams)"
      ],
      "metadata": {
        "colab": {
          "base_uri": "https://localhost:8080/"
        },
        "id": "Z29N9uM6xAVv",
        "outputId": "b47432e4-f308-4910-92f6-3f801622eb9b"
      },
      "execution_count": null,
      "outputs": [
        {
          "output_type": "stream",
          "name": "stdout",
          "text": [
            "[['machine', 'learning'], ['learning', 'machine'], ['machine', 'study'], ['study', 'machine'], ['machine', 'computer'], ['computer', 'machine'], ['machine', 'algorithms'], ['algorithms', 'machine'], ['learning', 'study'], ['study', 'learning'], ['learning', 'computer'], ['computer', 'learning'], ['learning', 'algorithms'], ['algorithms', 'learning'], ['study', 'computer'], ['computer', 'study'], ['study', 'algorithms'], ['algorithms', 'study'], ['computer', 'algorithms'], ['algorithms', 'computer'], ['improve', 'automatically'], ['automatically', 'improve'], ['improve', 'through'], ['through', 'improve'], ['improve', 'experience.'], ['experience.', 'improve'], ['improve', 'seen'], ['seen', 'improve'], ['automatically', 'through'], ['through', 'automatically'], ['automatically', 'experience.'], ['experience.', 'automatically'], ['automatically', 'seen'], ['seen', 'automatically'], ['through', 'experience.'], ['experience.', 'through'], ['through', 'seen'], ['seen', 'through'], ['experience.', 'seen'], ['seen', 'experience.'], ['subset', 'artificial'], ['artificial', 'subset'], ['subset', 'intelligence.'], ['intelligence.', 'subset'], ['subset', 'machine'], ['machine', 'subset'], ['subset', 'learning'], ['learning', 'subset'], ['subset', 'algorithms'], ['algorithms', 'subset'], ['artificial', 'intelligence.'], ['intelligence.', 'artificial'], ['artificial', 'machine'], ['machine', 'artificial'], ['artificial', 'learning'], ['learning', 'artificial'], ['artificial', 'algorithms'], ['algorithms', 'artificial'], ['intelligence.', 'machine'], ['machine', 'intelligence.'], ['intelligence.', 'learning'], ['learning', 'intelligence.'], ['intelligence.', 'algorithms'], ['algorithms', 'intelligence.'], ['machine', 'learning'], ['learning', 'machine'], ['machine', 'algorithms'], ['algorithms', 'machine'], ['learning', 'algorithms'], ['algorithms', 'learning'], ['build', 'mathematical'], ['mathematical', 'build'], ['build', 'model'], ['model', 'build'], ['build', 'based'], ['based', 'build'], ['build', 'sample'], ['sample', 'build'], ['build', 'data,'], ['data,', 'build'], ['build', 'known'], ['known', 'build'], ['mathematical', 'model'], ['model', 'mathematical'], ['mathematical', 'based'], ['based', 'mathematical'], ['mathematical', 'sample'], ['sample', 'mathematical'], ['mathematical', 'data,'], ['data,', 'mathematical'], ['mathematical', 'known'], ['known', 'mathematical'], ['model', 'based'], ['based', 'model'], ['model', 'sample'], ['sample', 'model'], ['model', 'data,'], ['data,', 'model'], ['model', 'known'], ['known', 'model'], ['based', 'sample'], ['sample', 'based'], ['based', 'data,'], ['data,', 'based'], ['based', 'known'], ['known', 'based'], ['sample', 'data,'], ['data,', 'sample'], ['sample', 'known'], ['known', 'sample'], ['data,', 'known'], ['known', 'data,'], ['training', 'data,'], ['data,', 'training'], ['training', 'order'], ['order', 'training'], ['training', 'make'], ['make', 'training'], ['training', 'predictions'], ['predictions', 'training'], ['training', 'decisions'], ['decisions', 'training'], ['training', 'without'], ['without', 'training'], ['data,', 'order'], ['order', 'data,'], ['data,', 'make'], ['make', 'data,'], ['data,', 'predictions'], ['predictions', 'data,'], ['data,', 'decisions'], ['decisions', 'data,'], ['data,', 'without'], ['without', 'data,'], ['order', 'make'], ['make', 'order'], ['order', 'predictions'], ['predictions', 'order'], ['order', 'decisions'], ['decisions', 'order'], ['order', 'without'], ['without', 'order'], ['make', 'predictions'], ['predictions', 'make'], ['make', 'decisions'], ['decisions', 'make'], ['make', 'without'], ['without', 'make'], ['predictions', 'decisions'], ['decisions', 'predictions'], ['predictions', 'without'], ['without', 'predictions'], ['decisions', 'without'], ['without', 'decisions'], ['being', 'explicitly'], ['explicitly', 'being'], ['being', 'programmed'], ['programmed', 'being'], ['being', 'so.'], ['so.', 'being'], ['being', 'machine'], ['machine', 'being'], ['being', 'learning'], ['learning', 'being'], ['being', 'algorithms'], ['algorithms', 'being'], ['explicitly', 'programmed'], ['programmed', 'explicitly'], ['explicitly', 'so.'], ['so.', 'explicitly'], ['explicitly', 'machine'], ['machine', 'explicitly'], ['explicitly', 'learning'], ['learning', 'explicitly'], ['explicitly', 'algorithms'], ['algorithms', 'explicitly'], ['programmed', 'so.'], ['so.', 'programmed'], ['programmed', 'machine'], ['machine', 'programmed'], ['programmed', 'learning'], ['learning', 'programmed'], ['programmed', 'algorithms'], ['algorithms', 'programmed'], ['so.', 'machine'], ['machine', 'so.'], ['so.', 'learning'], ['learning', 'so.'], ['so.', 'algorithms'], ['algorithms', 'so.'], ['machine', 'learning'], ['learning', 'machine'], ['machine', 'algorithms'], ['algorithms', 'machine'], ['learning', 'algorithms'], ['algorithms', 'learning'], ['used', 'wide'], ['wide', 'used'], ['used', 'variety'], ['variety', 'used'], ['used', 'applications,'], ['applications,', 'used'], ['used', 'such'], ['such', 'used'], ['used', 'email'], ['email', 'used'], ['used', 'filtering'], ['filtering', 'used'], ['wide', 'variety'], ['variety', 'wide'], ['wide', 'applications,'], ['applications,', 'wide'], ['wide', 'such'], ['such', 'wide'], ['wide', 'email'], ['email', 'wide'], ['wide', 'filtering'], ['filtering', 'wide'], ['variety', 'applications,'], ['applications,', 'variety'], ['variety', 'such'], ['such', 'variety'], ['variety', 'email'], ['email', 'variety'], ['variety', 'filtering'], ['filtering', 'variety'], ['applications,', 'such'], ['such', 'applications,'], ['applications,', 'email'], ['email', 'applications,'], ['applications,', 'filtering'], ['filtering', 'applications,'], ['such', 'email'], ['email', 'such'], ['such', 'filtering'], ['filtering', 'such'], ['email', 'filtering'], ['filtering', 'email'], ['computer', 'vision,'], ['vision,', 'computer'], ['computer', 'where'], ['where', 'computer'], ['computer', 'difficult'], ['difficult', 'computer'], ['computer', 'infeasible'], ['infeasible', 'computer'], ['computer', 'develop'], ['develop', 'computer'], ['vision,', 'where'], ['where', 'vision,'], ['vision,', 'difficult'], ['difficult', 'vision,'], ['vision,', 'infeasible'], ['infeasible', 'vision,'], ['vision,', 'develop'], ['develop', 'vision,'], ['where', 'difficult'], ['difficult', 'where'], ['where', 'infeasible'], ['infeasible', 'where'], ['where', 'develop'], ['develop', 'where'], ['difficult', 'infeasible'], ['infeasible', 'difficult'], ['difficult', 'develop'], ['develop', 'difficult'], ['infeasible', 'develop'], ['develop', 'infeasible'], ['conventional', 'algorithms'], ['algorithms', 'conventional'], ['conventional', 'perform'], ['perform', 'conventional'], ['conventional', 'needed'], ['needed', 'conventional'], ['conventional', 'tasks.'], ['tasks.', 'conventional'], ['algorithms', 'perform'], ['perform', 'algorithms'], ['algorithms', 'needed'], ['needed', 'algorithms'], ['algorithms', 'tasks.'], ['tasks.', 'algorithms'], ['perform', 'needed'], ['needed', 'perform'], ['perform', 'tasks.'], ['tasks.', 'perform'], ['needed', 'tasks.'], ['tasks.', 'needed']]\n"
          ]
        }
      ]
    },
    {
      "cell_type": "markdown",
      "source": [
        "calculate uniue word"
      ],
      "metadata": {
        "id": "lP9RPZEF-EyV"
      }
    },
    {
      "cell_type": "code",
      "source": [
        "all_words = []\n",
        "for bi in bigrams:\n",
        "    all_words.extend(bi)\n",
        "\n",
        "all_words = list(set(all_words))\n",
        "all_words.sort()\n",
        "\n",
        "print(all_words)\n",
        "print(\"Total number of unique words are:\", len(all_words))"
      ],
      "metadata": {
        "colab": {
          "base_uri": "https://localhost:8080/"
        },
        "id": "bTxteMj1xJEv",
        "outputId": "400bf3e3-3cce-4cf6-c7a3-aa1bf71b8e8d"
      },
      "execution_count": null,
      "outputs": [
        {
          "output_type": "stream",
          "name": "stdout",
          "text": [
            "['algorithms', 'applications,', 'artificial', 'automatically', 'based', 'being', 'build', 'computer', 'conventional', 'data,', 'decisions', 'develop', 'difficult', 'email', 'experience.', 'explicitly', 'filtering', 'improve', 'infeasible', 'intelligence.', 'known', 'learning', 'machine', 'make', 'mathematical', 'model', 'needed', 'order', 'perform', 'predictions', 'programmed', 'sample', 'seen', 'so.', 'study', 'subset', 'such', 'tasks.', 'through', 'training', 'used', 'variety', 'vision,', 'where', 'wide', 'without']\n",
            "Total number of unique words are: 46\n"
          ]
        }
      ]
    },
    {
      "cell_type": "markdown",
      "source": [
        "make a dict"
      ],
      "metadata": {
        "id": "yJgVi1NL-Jpq"
      }
    },
    {
      "cell_type": "code",
      "source": [
        "words_dict = {}\n",
        "\n",
        "counter = 0\n",
        "for word in all_words:\n",
        "    words_dict[word] = counter\n",
        "    counter += 1\n",
        "\n",
        "print(words_dict)"
      ],
      "metadata": {
        "colab": {
          "base_uri": "https://localhost:8080/"
        },
        "id": "F8N5DuLixLxa",
        "outputId": "e441f1ca-8403-4450-fe26-a70ccfbec4e0"
      },
      "execution_count": null,
      "outputs": [
        {
          "output_type": "stream",
          "name": "stdout",
          "text": [
            "{'algorithms': 0, 'applications,': 1, 'artificial': 2, 'automatically': 3, 'based': 4, 'being': 5, 'build': 6, 'computer': 7, 'conventional': 8, 'data,': 9, 'decisions': 10, 'develop': 11, 'difficult': 12, 'email': 13, 'experience.': 14, 'explicitly': 15, 'filtering': 16, 'improve': 17, 'infeasible': 18, 'intelligence.': 19, 'known': 20, 'learning': 21, 'machine': 22, 'make': 23, 'mathematical': 24, 'model': 25, 'needed': 26, 'order': 27, 'perform': 28, 'predictions': 29, 'programmed': 30, 'sample': 31, 'seen': 32, 'so.': 33, 'study': 34, 'subset': 35, 'such': 36, 'tasks.': 37, 'through': 38, 'training': 39, 'used': 40, 'variety': 41, 'vision,': 42, 'where': 43, 'wide': 44, 'without': 45}\n"
          ]
        }
      ]
    },
    {
      "cell_type": "markdown",
      "source": [
        "one hot encoding"
      ],
      "metadata": {
        "id": "TtZR9E6Y-MFk"
      }
    },
    {
      "cell_type": "code",
      "source": [
        "import numpy as np\n",
        "\n",
        "onehot_data = np.zeros((len(all_words), len(all_words)))\n",
        "\n",
        "for i in range(len(all_words)):\n",
        "    onehot_data[i][i] = 1\n",
        "\n",
        "onehot_dict = {}\n",
        "counter = 0\n",
        "for word in all_words:\n",
        "    onehot_dict[word] = onehot_data[counter]\n",
        "    counter += 1\n",
        "\n",
        "for word in onehot_dict:\n",
        "    print(word, \":\", onehot_dict[word])"
      ],
      "metadata": {
        "colab": {
          "base_uri": "https://localhost:8080/"
        },
        "id": "fRju3Zzx9AGm",
        "outputId": "027a35a9-f074-48fe-8e5d-51142846f77b"
      },
      "execution_count": null,
      "outputs": [
        {
          "output_type": "stream",
          "name": "stdout",
          "text": [
            "algorithms : [1. 0. 0. 0. 0. 0. 0. 0. 0. 0. 0. 0. 0. 0. 0. 0. 0. 0. 0. 0. 0. 0. 0. 0.\n",
            " 0. 0. 0. 0. 0. 0. 0. 0. 0. 0. 0. 0. 0. 0. 0. 0. 0. 0. 0. 0. 0. 0.]\n",
            "applications, : [0. 1. 0. 0. 0. 0. 0. 0. 0. 0. 0. 0. 0. 0. 0. 0. 0. 0. 0. 0. 0. 0. 0. 0.\n",
            " 0. 0. 0. 0. 0. 0. 0. 0. 0. 0. 0. 0. 0. 0. 0. 0. 0. 0. 0. 0. 0. 0.]\n",
            "artificial : [0. 0. 1. 0. 0. 0. 0. 0. 0. 0. 0. 0. 0. 0. 0. 0. 0. 0. 0. 0. 0. 0. 0. 0.\n",
            " 0. 0. 0. 0. 0. 0. 0. 0. 0. 0. 0. 0. 0. 0. 0. 0. 0. 0. 0. 0. 0. 0.]\n",
            "automatically : [0. 0. 0. 1. 0. 0. 0. 0. 0. 0. 0. 0. 0. 0. 0. 0. 0. 0. 0. 0. 0. 0. 0. 0.\n",
            " 0. 0. 0. 0. 0. 0. 0. 0. 0. 0. 0. 0. 0. 0. 0. 0. 0. 0. 0. 0. 0. 0.]\n",
            "based : [0. 0. 0. 0. 1. 0. 0. 0. 0. 0. 0. 0. 0. 0. 0. 0. 0. 0. 0. 0. 0. 0. 0. 0.\n",
            " 0. 0. 0. 0. 0. 0. 0. 0. 0. 0. 0. 0. 0. 0. 0. 0. 0. 0. 0. 0. 0. 0.]\n",
            "being : [0. 0. 0. 0. 0. 1. 0. 0. 0. 0. 0. 0. 0. 0. 0. 0. 0. 0. 0. 0. 0. 0. 0. 0.\n",
            " 0. 0. 0. 0. 0. 0. 0. 0. 0. 0. 0. 0. 0. 0. 0. 0. 0. 0. 0. 0. 0. 0.]\n",
            "build : [0. 0. 0. 0. 0. 0. 1. 0. 0. 0. 0. 0. 0. 0. 0. 0. 0. 0. 0. 0. 0. 0. 0. 0.\n",
            " 0. 0. 0. 0. 0. 0. 0. 0. 0. 0. 0. 0. 0. 0. 0. 0. 0. 0. 0. 0. 0. 0.]\n",
            "computer : [0. 0. 0. 0. 0. 0. 0. 1. 0. 0. 0. 0. 0. 0. 0. 0. 0. 0. 0. 0. 0. 0. 0. 0.\n",
            " 0. 0. 0. 0. 0. 0. 0. 0. 0. 0. 0. 0. 0. 0. 0. 0. 0. 0. 0. 0. 0. 0.]\n",
            "conventional : [0. 0. 0. 0. 0. 0. 0. 0. 1. 0. 0. 0. 0. 0. 0. 0. 0. 0. 0. 0. 0. 0. 0. 0.\n",
            " 0. 0. 0. 0. 0. 0. 0. 0. 0. 0. 0. 0. 0. 0. 0. 0. 0. 0. 0. 0. 0. 0.]\n",
            "data, : [0. 0. 0. 0. 0. 0. 0. 0. 0. 1. 0. 0. 0. 0. 0. 0. 0. 0. 0. 0. 0. 0. 0. 0.\n",
            " 0. 0. 0. 0. 0. 0. 0. 0. 0. 0. 0. 0. 0. 0. 0. 0. 0. 0. 0. 0. 0. 0.]\n",
            "decisions : [0. 0. 0. 0. 0. 0. 0. 0. 0. 0. 1. 0. 0. 0. 0. 0. 0. 0. 0. 0. 0. 0. 0. 0.\n",
            " 0. 0. 0. 0. 0. 0. 0. 0. 0. 0. 0. 0. 0. 0. 0. 0. 0. 0. 0. 0. 0. 0.]\n",
            "develop : [0. 0. 0. 0. 0. 0. 0. 0. 0. 0. 0. 1. 0. 0. 0. 0. 0. 0. 0. 0. 0. 0. 0. 0.\n",
            " 0. 0. 0. 0. 0. 0. 0. 0. 0. 0. 0. 0. 0. 0. 0. 0. 0. 0. 0. 0. 0. 0.]\n",
            "difficult : [0. 0. 0. 0. 0. 0. 0. 0. 0. 0. 0. 0. 1. 0. 0. 0. 0. 0. 0. 0. 0. 0. 0. 0.\n",
            " 0. 0. 0. 0. 0. 0. 0. 0. 0. 0. 0. 0. 0. 0. 0. 0. 0. 0. 0. 0. 0. 0.]\n",
            "email : [0. 0. 0. 0. 0. 0. 0. 0. 0. 0. 0. 0. 0. 1. 0. 0. 0. 0. 0. 0. 0. 0. 0. 0.\n",
            " 0. 0. 0. 0. 0. 0. 0. 0. 0. 0. 0. 0. 0. 0. 0. 0. 0. 0. 0. 0. 0. 0.]\n",
            "experience. : [0. 0. 0. 0. 0. 0. 0. 0. 0. 0. 0. 0. 0. 0. 1. 0. 0. 0. 0. 0. 0. 0. 0. 0.\n",
            " 0. 0. 0. 0. 0. 0. 0. 0. 0. 0. 0. 0. 0. 0. 0. 0. 0. 0. 0. 0. 0. 0.]\n",
            "explicitly : [0. 0. 0. 0. 0. 0. 0. 0. 0. 0. 0. 0. 0. 0. 0. 1. 0. 0. 0. 0. 0. 0. 0. 0.\n",
            " 0. 0. 0. 0. 0. 0. 0. 0. 0. 0. 0. 0. 0. 0. 0. 0. 0. 0. 0. 0. 0. 0.]\n",
            "filtering : [0. 0. 0. 0. 0. 0. 0. 0. 0. 0. 0. 0. 0. 0. 0. 0. 1. 0. 0. 0. 0. 0. 0. 0.\n",
            " 0. 0. 0. 0. 0. 0. 0. 0. 0. 0. 0. 0. 0. 0. 0. 0. 0. 0. 0. 0. 0. 0.]\n",
            "improve : [0. 0. 0. 0. 0. 0. 0. 0. 0. 0. 0. 0. 0. 0. 0. 0. 0. 1. 0. 0. 0. 0. 0. 0.\n",
            " 0. 0. 0. 0. 0. 0. 0. 0. 0. 0. 0. 0. 0. 0. 0. 0. 0. 0. 0. 0. 0. 0.]\n",
            "infeasible : [0. 0. 0. 0. 0. 0. 0. 0. 0. 0. 0. 0. 0. 0. 0. 0. 0. 0. 1. 0. 0. 0. 0. 0.\n",
            " 0. 0. 0. 0. 0. 0. 0. 0. 0. 0. 0. 0. 0. 0. 0. 0. 0. 0. 0. 0. 0. 0.]\n",
            "intelligence. : [0. 0. 0. 0. 0. 0. 0. 0. 0. 0. 0. 0. 0. 0. 0. 0. 0. 0. 0. 1. 0. 0. 0. 0.\n",
            " 0. 0. 0. 0. 0. 0. 0. 0. 0. 0. 0. 0. 0. 0. 0. 0. 0. 0. 0. 0. 0. 0.]\n",
            "known : [0. 0. 0. 0. 0. 0. 0. 0. 0. 0. 0. 0. 0. 0. 0. 0. 0. 0. 0. 0. 1. 0. 0. 0.\n",
            " 0. 0. 0. 0. 0. 0. 0. 0. 0. 0. 0. 0. 0. 0. 0. 0. 0. 0. 0. 0. 0. 0.]\n",
            "learning : [0. 0. 0. 0. 0. 0. 0. 0. 0. 0. 0. 0. 0. 0. 0. 0. 0. 0. 0. 0. 0. 1. 0. 0.\n",
            " 0. 0. 0. 0. 0. 0. 0. 0. 0. 0. 0. 0. 0. 0. 0. 0. 0. 0. 0. 0. 0. 0.]\n",
            "machine : [0. 0. 0. 0. 0. 0. 0. 0. 0. 0. 0. 0. 0. 0. 0. 0. 0. 0. 0. 0. 0. 0. 1. 0.\n",
            " 0. 0. 0. 0. 0. 0. 0. 0. 0. 0. 0. 0. 0. 0. 0. 0. 0. 0. 0. 0. 0. 0.]\n",
            "make : [0. 0. 0. 0. 0. 0. 0. 0. 0. 0. 0. 0. 0. 0. 0. 0. 0. 0. 0. 0. 0. 0. 0. 1.\n",
            " 0. 0. 0. 0. 0. 0. 0. 0. 0. 0. 0. 0. 0. 0. 0. 0. 0. 0. 0. 0. 0. 0.]\n",
            "mathematical : [0. 0. 0. 0. 0. 0. 0. 0. 0. 0. 0. 0. 0. 0. 0. 0. 0. 0. 0. 0. 0. 0. 0. 0.\n",
            " 1. 0. 0. 0. 0. 0. 0. 0. 0. 0. 0. 0. 0. 0. 0. 0. 0. 0. 0. 0. 0. 0.]\n",
            "model : [0. 0. 0. 0. 0. 0. 0. 0. 0. 0. 0. 0. 0. 0. 0. 0. 0. 0. 0. 0. 0. 0. 0. 0.\n",
            " 0. 1. 0. 0. 0. 0. 0. 0. 0. 0. 0. 0. 0. 0. 0. 0. 0. 0. 0. 0. 0. 0.]\n",
            "needed : [0. 0. 0. 0. 0. 0. 0. 0. 0. 0. 0. 0. 0. 0. 0. 0. 0. 0. 0. 0. 0. 0. 0. 0.\n",
            " 0. 0. 1. 0. 0. 0. 0. 0. 0. 0. 0. 0. 0. 0. 0. 0. 0. 0. 0. 0. 0. 0.]\n",
            "order : [0. 0. 0. 0. 0. 0. 0. 0. 0. 0. 0. 0. 0. 0. 0. 0. 0. 0. 0. 0. 0. 0. 0. 0.\n",
            " 0. 0. 0. 1. 0. 0. 0. 0. 0. 0. 0. 0. 0. 0. 0. 0. 0. 0. 0. 0. 0. 0.]\n",
            "perform : [0. 0. 0. 0. 0. 0. 0. 0. 0. 0. 0. 0. 0. 0. 0. 0. 0. 0. 0. 0. 0. 0. 0. 0.\n",
            " 0. 0. 0. 0. 1. 0. 0. 0. 0. 0. 0. 0. 0. 0. 0. 0. 0. 0. 0. 0. 0. 0.]\n",
            "predictions : [0. 0. 0. 0. 0. 0. 0. 0. 0. 0. 0. 0. 0. 0. 0. 0. 0. 0. 0. 0. 0. 0. 0. 0.\n",
            " 0. 0. 0. 0. 0. 1. 0. 0. 0. 0. 0. 0. 0. 0. 0. 0. 0. 0. 0. 0. 0. 0.]\n",
            "programmed : [0. 0. 0. 0. 0. 0. 0. 0. 0. 0. 0. 0. 0. 0. 0. 0. 0. 0. 0. 0. 0. 0. 0. 0.\n",
            " 0. 0. 0. 0. 0. 0. 1. 0. 0. 0. 0. 0. 0. 0. 0. 0. 0. 0. 0. 0. 0. 0.]\n",
            "sample : [0. 0. 0. 0. 0. 0. 0. 0. 0. 0. 0. 0. 0. 0. 0. 0. 0. 0. 0. 0. 0. 0. 0. 0.\n",
            " 0. 0. 0. 0. 0. 0. 0. 1. 0. 0. 0. 0. 0. 0. 0. 0. 0. 0. 0. 0. 0. 0.]\n",
            "seen : [0. 0. 0. 0. 0. 0. 0. 0. 0. 0. 0. 0. 0. 0. 0. 0. 0. 0. 0. 0. 0. 0. 0. 0.\n",
            " 0. 0. 0. 0. 0. 0. 0. 0. 1. 0. 0. 0. 0. 0. 0. 0. 0. 0. 0. 0. 0. 0.]\n",
            "so. : [0. 0. 0. 0. 0. 0. 0. 0. 0. 0. 0. 0. 0. 0. 0. 0. 0. 0. 0. 0. 0. 0. 0. 0.\n",
            " 0. 0. 0. 0. 0. 0. 0. 0. 0. 1. 0. 0. 0. 0. 0. 0. 0. 0. 0. 0. 0. 0.]\n",
            "study : [0. 0. 0. 0. 0. 0. 0. 0. 0. 0. 0. 0. 0. 0. 0. 0. 0. 0. 0. 0. 0. 0. 0. 0.\n",
            " 0. 0. 0. 0. 0. 0. 0. 0. 0. 0. 1. 0. 0. 0. 0. 0. 0. 0. 0. 0. 0. 0.]\n",
            "subset : [0. 0. 0. 0. 0. 0. 0. 0. 0. 0. 0. 0. 0. 0. 0. 0. 0. 0. 0. 0. 0. 0. 0. 0.\n",
            " 0. 0. 0. 0. 0. 0. 0. 0. 0. 0. 0. 1. 0. 0. 0. 0. 0. 0. 0. 0. 0. 0.]\n",
            "such : [0. 0. 0. 0. 0. 0. 0. 0. 0. 0. 0. 0. 0. 0. 0. 0. 0. 0. 0. 0. 0. 0. 0. 0.\n",
            " 0. 0. 0. 0. 0. 0. 0. 0. 0. 0. 0. 0. 1. 0. 0. 0. 0. 0. 0. 0. 0. 0.]\n",
            "tasks. : [0. 0. 0. 0. 0. 0. 0. 0. 0. 0. 0. 0. 0. 0. 0. 0. 0. 0. 0. 0. 0. 0. 0. 0.\n",
            " 0. 0. 0. 0. 0. 0. 0. 0. 0. 0. 0. 0. 0. 1. 0. 0. 0. 0. 0. 0. 0. 0.]\n",
            "through : [0. 0. 0. 0. 0. 0. 0. 0. 0. 0. 0. 0. 0. 0. 0. 0. 0. 0. 0. 0. 0. 0. 0. 0.\n",
            " 0. 0. 0. 0. 0. 0. 0. 0. 0. 0. 0. 0. 0. 0. 1. 0. 0. 0. 0. 0. 0. 0.]\n",
            "training : [0. 0. 0. 0. 0. 0. 0. 0. 0. 0. 0. 0. 0. 0. 0. 0. 0. 0. 0. 0. 0. 0. 0. 0.\n",
            " 0. 0. 0. 0. 0. 0. 0. 0. 0. 0. 0. 0. 0. 0. 0. 1. 0. 0. 0. 0. 0. 0.]\n",
            "used : [0. 0. 0. 0. 0. 0. 0. 0. 0. 0. 0. 0. 0. 0. 0. 0. 0. 0. 0. 0. 0. 0. 0. 0.\n",
            " 0. 0. 0. 0. 0. 0. 0. 0. 0. 0. 0. 0. 0. 0. 0. 0. 1. 0. 0. 0. 0. 0.]\n",
            "variety : [0. 0. 0. 0. 0. 0. 0. 0. 0. 0. 0. 0. 0. 0. 0. 0. 0. 0. 0. 0. 0. 0. 0. 0.\n",
            " 0. 0. 0. 0. 0. 0. 0. 0. 0. 0. 0. 0. 0. 0. 0. 0. 0. 1. 0. 0. 0. 0.]\n",
            "vision, : [0. 0. 0. 0. 0. 0. 0. 0. 0. 0. 0. 0. 0. 0. 0. 0. 0. 0. 0. 0. 0. 0. 0. 0.\n",
            " 0. 0. 0. 0. 0. 0. 0. 0. 0. 0. 0. 0. 0. 0. 0. 0. 0. 0. 1. 0. 0. 0.]\n",
            "where : [0. 0. 0. 0. 0. 0. 0. 0. 0. 0. 0. 0. 0. 0. 0. 0. 0. 0. 0. 0. 0. 0. 0. 0.\n",
            " 0. 0. 0. 0. 0. 0. 0. 0. 0. 0. 0. 0. 0. 0. 0. 0. 0. 0. 0. 1. 0. 0.]\n",
            "wide : [0. 0. 0. 0. 0. 0. 0. 0. 0. 0. 0. 0. 0. 0. 0. 0. 0. 0. 0. 0. 0. 0. 0. 0.\n",
            " 0. 0. 0. 0. 0. 0. 0. 0. 0. 0. 0. 0. 0. 0. 0. 0. 0. 0. 0. 0. 1. 0.]\n",
            "without : [0. 0. 0. 0. 0. 0. 0. 0. 0. 0. 0. 0. 0. 0. 0. 0. 0. 0. 0. 0. 0. 0. 0. 0.\n",
            " 0. 0. 0. 0. 0. 0. 0. 0. 0. 0. 0. 0. 0. 0. 0. 0. 0. 0. 0. 0. 0. 1.]\n"
          ]
        }
      ]
    },
    {
      "cell_type": "code",
      "source": [
        "X = []\n",
        "Y = []\n",
        "\n",
        "for bi in bigrams:\n",
        "    X.append(onehot_dict[bi[0]])\n",
        "    Y.append(onehot_dict[bi[1]])\n",
        "\n",
        "X = np.array(X)\n",
        "Y = np.array(Y)"
      ],
      "metadata": {
        "id": "UbjvyTGY9CyQ"
      },
      "execution_count": null,
      "outputs": []
    },
    {
      "cell_type": "markdown",
      "source": [
        "model"
      ],
      "metadata": {
        "id": "McWchKXe_NBu"
      }
    },
    {
      "cell_type": "code",
      "source": [
        "from keras.models import Sequential\n",
        "from keras.layers import Dense\n",
        "\n",
        "embed_size = 2\n",
        "\n",
        "model = Sequential([\n",
        "    Dense(embed_size, activation='linear'),\n",
        "    Dense(Y.shape[1], activation = 'softmax')\n",
        "])\n",
        "\n",
        "model.compile(loss = 'categorical_crossentropy', optimizer = 'adam')"
      ],
      "metadata": {
        "id": "y5A0ybJq-8-G"
      },
      "execution_count": null,
      "outputs": []
    },
    {
      "cell_type": "code",
      "source": [
        "model.fit(X, Y, epochs = 1000, batch_size = 256, verbose = False)"
      ],
      "metadata": {
        "colab": {
          "base_uri": "https://localhost:8080/"
        },
        "id": "oA4q_-Sb_V51",
        "outputId": "789042d5-cc46-45c3-9985-9a09539930ec"
      },
      "execution_count": null,
      "outputs": [
        {
          "output_type": "execute_result",
          "data": {
            "text/plain": [
              "<keras.src.callbacks.History at 0x7fc060963fd0>"
            ]
          },
          "metadata": {},
          "execution_count": 36
        }
      ]
    },
    {
      "cell_type": "code",
      "source": [
        "weights = model.get_weights()[0]\n",
        "\n",
        "word_embeddings = {}\n",
        "for word in all_words:\n",
        "    word_embeddings[word] = weights[words_dict[word]]\n",
        "\n",
        "print(word_embeddings)"
      ],
      "metadata": {
        "colab": {
          "base_uri": "https://localhost:8080/"
        },
        "id": "wboTHx7j_nFZ",
        "outputId": "5dfaa495-5686-4acd-ab7d-6b62e2ae8d7e"
      },
      "execution_count": null,
      "outputs": [
        {
          "output_type": "stream",
          "name": "stdout",
          "text": [
            "{'algorithms': array([-0.94261116,  1.2081255 ], dtype=float32), 'applications,': array([-1.4153627, -1.6204107], dtype=float32), 'artificial': array([-1.1568054,  1.0850323], dtype=float32), 'automatically': array([ 1.240021 , -1.4838276], dtype=float32), 'based': array([1.5112038, 1.5759652], dtype=float32), 'being': array([-1.3575178,  1.5559211], dtype=float32), 'build': array([1.5640724, 1.5152361], dtype=float32), 'computer': array([-1.1516623,  0.0086841], dtype=float32), 'conventional': array([-0.15187033,  1.3726181 ], dtype=float32), 'data,': array([1.6315216, 0.1804392], dtype=float32), 'decisions': array([ 1.4525777, -0.5472552], dtype=float32), 'develop': array([-1.1454916 , -0.80677366], dtype=float32), 'difficult': array([-0.9164409 , -0.83379984], dtype=float32), 'email': array([-1.1403382, -1.5579355], dtype=float32), 'experience.': array([ 1.2631354, -1.1759045], dtype=float32), 'explicitly': array([-1.5564982,  1.4179106], dtype=float32), 'filtering': array([-1.511459 , -1.5271264], dtype=float32), 'improve': array([ 1.0591043, -0.9731302], dtype=float32), 'infeasible': array([-1.3701097, -0.7700501], dtype=float32), 'intelligence.': array([-1.3809505,  1.2295163], dtype=float32), 'known': array([1.5799342, 1.2403926], dtype=float32), 'learning': array([-1.5813121,  1.1970915], dtype=float32), 'machine': array([-1.4169427,  1.2831032], dtype=float32), 'make': array([ 1.5598898, -0.556964 ], dtype=float32), 'mathematical': array([1.4904947, 1.526145 ], dtype=float32), 'model': array([1.3310598, 1.4508108], dtype=float32), 'needed': array([-0.12388883,  1.3420264 ], dtype=float32), 'order': array([ 1.3228391, -0.5919773], dtype=float32), 'perform': array([-0.09493229,  1.1718676 ], dtype=float32), 'predictions': array([ 1.2675921, -0.5775526], dtype=float32), 'programmed': array([-1.0569197,  1.3672882], dtype=float32), 'sample': array([1.581983 , 1.5942277], dtype=float32), 'seen': array([ 1.0935429, -1.4996153], dtype=float32), 'so.': array([-1.1059592,  1.4370208], dtype=float32), 'study': array([-1.1295378 ,  0.82728887], dtype=float32), 'subset': array([-1.4791124 ,  0.98662466], dtype=float32), 'such': array([-1.3979812, -1.5803981], dtype=float32), 'tasks.': array([-0.22248131,  1.2154145 ], dtype=float32), 'through': array([ 1.0742105 , -0.98956966], dtype=float32), 'training': array([ 1.610403 , -0.6421816], dtype=float32), 'used': array([-1.3963335, -1.4311664], dtype=float32), 'variety': array([-1.3149534, -1.5313529], dtype=float32), 'vision,': array([-1.136251  , -0.75956476], dtype=float32), 'where': array([-1.3289651 , -0.82185733], dtype=float32), 'wide': array([-1.0937415, -1.6199454], dtype=float32), 'without': array([ 1.3535525, -0.5362398], dtype=float32)}\n"
          ]
        }
      ]
    },
    {
      "cell_type": "code",
      "source": [
        "import matplotlib.pyplot as plt\n",
        "\n",
        "plt.figure(figsize = (10, 10))\n",
        "for word in list(words_dict.keys()):\n",
        "    coord = word_embeddings.get(word)\n",
        "    plt.scatter(coord[0], coord[1])\n",
        "    plt.annotate(word, (coord[0], coord[1]))\n",
        "\n",
        "plt.savefig('img.jpg')"
      ],
      "metadata": {
        "colab": {
          "base_uri": "https://localhost:8080/",
          "height": 830
        },
        "id": "4XneBcoV_sf4",
        "outputId": "efeed33d-1225-4e81-fe65-f6535ebe0c13"
      },
      "execution_count": null,
      "outputs": [
        {
          "output_type": "display_data",
          "data": {
            "text/plain": [
              "<Figure size 1000x1000 with 1 Axes>"
            ],
            "image/png": "[encoded data removed]"
          },
          "metadata": {}
        }
      ]
    },
    {
      "cell_type": "code",
      "source": [],
      "metadata": {
        "id": "KdJlGnP2_tzB"
      },
      "execution_count": null,
      "outputs": []
    }
  ]
}