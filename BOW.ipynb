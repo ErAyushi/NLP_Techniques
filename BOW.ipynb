{
  "nbformat": 4,
  "nbformat_minor": 0,
  "metadata": {
    "colab": {
      "provenance": [],
      "authorship_tag": "ABX9TyPCBDwOSqfm1DndJyph+OmU",
      "include_colab_link": true
    },
    "kernelspec": {
      "name": "python3",
      "display_name": "Python 3"
    },
    "language_info": {
      "name": "python"
    }
  },
  "cells": [
    {
      "cell_type": "markdown",
      "metadata": {
        "id": "view-in-github",
        "colab_type": "text"
      },
      "source": [
        "<a href=\"https://colab.research.google.com/github/ErAyushi/NLP_Techniques/blob/main/BOW.ipynb\" target=\"_parent\"><img src=\"https://colab.research.google.com/assets/colab-badge.svg\" alt=\"Open In Colab\"/></a>"
      ]
    },
    {
      "cell_type": "markdown",
      "source": [
        "Pandas Library"
      ],
      "metadata": {
        "id": "IL8YToRrfxYw"
      }
    },
    {
      "cell_type": "code",
      "execution_count": 1,
      "metadata": {
        "id": "5wtommqiekwm"
      },
      "outputs": [],
      "source": [
        "import pandas as pd\n",
        "from collections import Counter"
      ]
    },
    {
      "cell_type": "code",
      "source": [
        "df = pd.DataFrame({'tweets': ['Hello World Hello', 'Hi Bye Bye Bye']})"
      ],
      "metadata": {
        "id": "8nq19zn2gSbE"
      },
      "execution_count": 2,
      "outputs": []
    },
    {
      "cell_type": "code",
      "source": [
        "def create_bow(tweets):\n",
        "    return dict (Counter(tweets.split(\" \")))"
      ],
      "metadata": {
        "id": "MY6T4oKJf7Uq"
      },
      "execution_count": 3,
      "outputs": []
    },
    {
      "cell_type": "code",
      "source": [
        "df['bow'] = df['tweets'].apply(create_bow)"
      ],
      "metadata": {
        "id": "2RlngjWnmEgS"
      },
      "execution_count": 4,
      "outputs": []
    },
    {
      "cell_type": "code",
      "source": [
        "bow_df = pd.DataFrame(df['bow'].tolist(), index=df.index).fillna(0).astype(int)\n",
        "print(bow_df)"
      ],
      "metadata": {
        "colab": {
          "base_uri": "https://localhost:8080/"
        },
        "id": "sndKEVsclzoW",
        "outputId": "f7900fd1-76ab-4ee1-b002-2172d473af44"
      },
      "execution_count": 5,
      "outputs": [
        {
          "output_type": "stream",
          "name": "stdout",
          "text": [
            "   Hello  World  Hi  Bye\n",
            "0      2      1   0    0\n",
            "1      0      0   1    3\n"
          ]
        }
      ]
    },
    {
      "cell_type": "markdown",
      "source": [
        "NLTK"
      ],
      "metadata": {
        "id": "lLtivqLPmLTr"
      }
    },
    {
      "cell_type": "code",
      "source": [
        "import numpy as np\n",
        "import nltk\n",
        "from nltk.tokenize import word_tokenize\n",
        "from collections import defaultdict"
      ],
      "metadata": {
        "id": "1-_uAr48nOtb"
      },
      "execution_count": 6,
      "outputs": []
    },
    {
      "cell_type": "code",
      "source": [
        "import nltk\n",
        "nltk.download('punkt')\n"
      ],
      "metadata": {
        "colab": {
          "base_uri": "https://localhost:8080/"
        },
        "id": "MeU0UcJB0Amy",
        "outputId": "fdf16c95-0c24-45e4-eeb1-9a0beec9e5b0"
      },
      "execution_count": 7,
      "outputs": [
        {
          "output_type": "stream",
          "name": "stderr",
          "text": [
            "[nltk_data] Downloading package punkt to /root/nltk_data...\n",
            "[nltk_data]   Unzipping tokenizers/punkt.zip.\n"
          ]
        },
        {
          "output_type": "execute_result",
          "data": {
            "text/plain": [
              "True"
            ]
          },
          "metadata": {},
          "execution_count": 7
        }
      ]
    },
    {
      "cell_type": "code",
      "source": [
        "corpus = ['She loves pizza, pizza is delicious.','She is a good person.','good people are the best.']"
      ],
      "metadata": {
        "id": "7nUFtZ-vzSk1"
      },
      "execution_count": 8,
      "outputs": []
    },
    {
      "cell_type": "code",
      "source": [
        "doc = []\n",
        "vocab = []\n",
        "for sent in corpus:\n",
        "    x = word_tokenize(sent)\n",
        "    sentence = [w.lower() for w in x if w.isalpha() ]\n",
        "    doc.append(sentence)\n",
        "    for word in sentence:\n",
        "        if word not in vocab:\n",
        "            vocab.append(word)"
      ],
      "metadata": {
        "id": "BNtk5WfanLqK"
      },
      "execution_count": 9,
      "outputs": []
    },
    {
      "cell_type": "code",
      "source": [
        "len_vector = len(vocab)"
      ],
      "metadata": {
        "id": "z-DCcoAi0L6Y"
      },
      "execution_count": 10,
      "outputs": []
    },
    {
      "cell_type": "code",
      "source": [
        "index_word = {}\n",
        "i = 0\n",
        "for word in vocab:\n",
        "    index_word[word] = i\n",
        "    i += 1"
      ],
      "metadata": {
        "id": "5MfqwYwj0PuP"
      },
      "execution_count": 11,
      "outputs": []
    },
    {
      "cell_type": "code",
      "source": [
        "index_word"
      ],
      "metadata": {
        "colab": {
          "base_uri": "https://localhost:8080/"
        },
        "id": "PMj6Wy-o0WZl",
        "outputId": "9daf7615-0086-447d-8206-dfa62d8c49a6"
      },
      "execution_count": 12,
      "outputs": [
        {
          "output_type": "execute_result",
          "data": {
            "text/plain": [
              "{'she': 0,\n",
              " 'loves': 1,\n",
              " 'pizza': 2,\n",
              " 'is': 3,\n",
              " 'delicious': 4,\n",
              " 'a': 5,\n",
              " 'good': 6,\n",
              " 'person': 7,\n",
              " 'people': 8,\n",
              " 'are': 9,\n",
              " 'the': 10,\n",
              " 'best': 11}"
            ]
          },
          "metadata": {},
          "execution_count": 12
        }
      ]
    },
    {
      "cell_type": "code",
      "source": [
        "def bag_of_words(sent):\n",
        "    count_dict = defaultdict(int)\n",
        "    vec = np.zeros(len_vector)\n",
        "    for item in sent:\n",
        "        count_dict[item] += 1\n",
        "    for key,item in count_dict.items():\n",
        "        vec[index_word[key]] = item\n",
        "    return vec"
      ],
      "metadata": {
        "id": "sFWR6L0x0X17"
      },
      "execution_count": 13,
      "outputs": []
    },
    {
      "cell_type": "code",
      "source": [
        "vector = bag_of_words(doc[0])\n",
        "print(vector)"
      ],
      "metadata": {
        "id": "f59orvYj0fSS",
        "outputId": "6a5c93fd-3333-4d3b-d91c-656ef19d89a6",
        "colab": {
          "base_uri": "https://localhost:8080/"
        }
      },
      "execution_count": 14,
      "outputs": [
        {
          "output_type": "stream",
          "name": "stdout",
          "text": [
            "[1. 1. 2. 1. 1. 0. 0. 0. 0. 0. 0. 0.]\n"
          ]
        }
      ]
    }
  ]
}