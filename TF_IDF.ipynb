{
  "nbformat": 4,
  "nbformat_minor": 0,
  "metadata": {
    "colab": {
      "provenance": [],
      "authorship_tag": "ABX9TyPUucNSuxVMvOluZwJIyQ/I",
      "include_colab_link": true
    },
    "kernelspec": {
      "name": "python3",
      "display_name": "Python 3"
    },
    "language_info": {
      "name": "python"
    }
  },
  "cells": [
    {
      "cell_type": "markdown",
      "metadata": {
        "id": "view-in-github",
        "colab_type": "text"
      },
      "source": [
        "<a href=\"https://colab.research.google.com/github/ErAyushi/NLP_Techniques/blob/main/TF_IDF.ipynb\" target=\"_parent\"><img src=\"https://colab.research.google.com/assets/colab-badge.svg\" alt=\"Open In Colab\"/></a>"
      ]
    },
    {
      "cell_type": "code",
      "execution_count": 1,
      "metadata": {
        "colab": {
          "base_uri": "https://localhost:8080/"
        },
        "id": "9q80kC7X038U",
        "outputId": "eb5fd313-52cd-42ea-ec75-772abf71c336"
      },
      "outputs": [
        {
          "output_type": "stream",
          "name": "stdout",
          "text": [
            "(4, 9)\n"
          ]
        }
      ],
      "source": [
        "from sklearn.feature_extraction.text import TfidfVectorizer\n",
        "corpus = [\n",
        "    'This is the first document.',\n",
        "    'This document is the second document.',\n",
        "    'And this is the third one.',\n",
        "    'Is this the first document?',\n",
        "]\n",
        "vectorizer = TfidfVectorizer()\n",
        "X = vectorizer.fit_transform(corpus)\n",
        "vectorizer.get_feature_names_out()\n",
        "print(X.shape)"
      ]
    },
    {
      "cell_type": "code",
      "source": [
        "print(X)"
      ],
      "metadata": {
        "colab": {
          "base_uri": "https://localhost:8080/"
        },
        "id": "kDEUL-hZ1LpP",
        "outputId": "451e0dfa-e7bf-4b2f-9729-add12021a90c"
      },
      "execution_count": 2,
      "outputs": [
        {
          "output_type": "stream",
          "name": "stdout",
          "text": [
            "  (0, 1)\t0.46979138557992045\n",
            "  (0, 2)\t0.5802858236844359\n",
            "  (0, 6)\t0.38408524091481483\n",
            "  (0, 3)\t0.38408524091481483\n",
            "  (0, 8)\t0.38408524091481483\n",
            "  (1, 5)\t0.5386476208856763\n",
            "  (1, 1)\t0.6876235979836938\n",
            "  (1, 6)\t0.281088674033753\n",
            "  (1, 3)\t0.281088674033753\n",
            "  (1, 8)\t0.281088674033753\n",
            "  (2, 4)\t0.511848512707169\n",
            "  (2, 7)\t0.511848512707169\n",
            "  (2, 0)\t0.511848512707169\n",
            "  (2, 6)\t0.267103787642168\n",
            "  (2, 3)\t0.267103787642168\n",
            "  (2, 8)\t0.267103787642168\n",
            "  (3, 1)\t0.46979138557992045\n",
            "  (3, 2)\t0.5802858236844359\n",
            "  (3, 6)\t0.38408524091481483\n",
            "  (3, 3)\t0.38408524091481483\n",
            "  (3, 8)\t0.38408524091481483\n"
          ]
        }
      ]
    },
    {
      "cell_type": "markdown",
      "source": [
        "preprocess the data"
      ],
      "metadata": {
        "id": "g60zR0943i2R"
      }
    },
    {
      "cell_type": "code",
      "source": [
        "import numpy as np\n",
        "from nltk.tokenize import  word_tokenize"
      ],
      "metadata": {
        "id": "w0R2qUgS4WK4"
      },
      "execution_count": 3,
      "outputs": []
    },
    {
      "cell_type": "code",
      "source": [
        "import nltk\n",
        "nltk.download('punkt')"
      ],
      "metadata": {
        "colab": {
          "base_uri": "https://localhost:8080/"
        },
        "id": "oUxIFSuS4mdZ",
        "outputId": "bc69a763-8a2e-4b65-8b25-d22b47561e2b"
      },
      "execution_count": 4,
      "outputs": [
        {
          "output_type": "stream",
          "name": "stderr",
          "text": [
            "[nltk_data] Downloading package punkt to /root/nltk_data...\n",
            "[nltk_data]   Unzipping tokenizers/punkt.zip.\n"
          ]
        },
        {
          "output_type": "execute_result",
          "data": {
            "text/plain": [
              "True"
            ]
          },
          "metadata": {},
          "execution_count": 4
        }
      ]
    },
    {
      "cell_type": "code",
      "source": [
        "corpus = ['She loves pizza, pizza is delicious.',\n",
        "          'She is a good person.',\n",
        "          'good people are the best.',\n",
        "          'Hello World Hello',\n",
        "          'Hi Bye Bye Bye']"
      ],
      "metadata": {
        "id": "DNnKEzGK4UdB"
      },
      "execution_count": 5,
      "outputs": []
    },
    {
      "cell_type": "code",
      "source": [
        "doc = []\n",
        "word_set = []\n",
        "\n",
        "for sent in corpus:\n",
        "    x = [i.lower() for  i in word_tokenize(sent) if i.isalpha()]\n",
        "    doc.append(x)\n",
        "    for word in x:\n",
        "        if word not in word_set:\n",
        "            word_set.append(word)\n",
        "\n",
        "word_set = set(word_set)\n",
        "total_documents = len(doc)\n",
        "\n",
        "index_dict = {}\n",
        "i = 0\n",
        "for word in word_set:\n",
        "    index_dict[word] = i\n",
        "    i += 1"
      ],
      "metadata": {
        "id": "y6Lm2Ktd1X0P"
      },
      "execution_count": 6,
      "outputs": []
    },
    {
      "cell_type": "code",
      "source": [
        "def count_dict(doc):\n",
        "    word_count = {}\n",
        "    for word in word_set:\n",
        "        word_count[word] = 0\n",
        "        for sent in doc:\n",
        "            if word in sent:\n",
        "                word_count[word] += 1\n",
        "    return word_count\n",
        "\n",
        "word_count = count_dict(doc)"
      ],
      "metadata": {
        "id": "qTGVWHWw4uj7"
      },
      "execution_count": 7,
      "outputs": []
    },
    {
      "cell_type": "code",
      "source": [
        "word_count"
      ],
      "metadata": {
        "colab": {
          "base_uri": "https://localhost:8080/"
        },
        "id": "nZS6EDht56VN",
        "outputId": "eb170cb6-b044-4060-fec8-882ae8b14116"
      },
      "execution_count": 8,
      "outputs": [
        {
          "output_type": "execute_result",
          "data": {
            "text/plain": [
              "{'bye': 1,\n",
              " 'she': 2,\n",
              " 'person': 1,\n",
              " 'are': 1,\n",
              " 'best': 1,\n",
              " 'loves': 1,\n",
              " 'hi': 1,\n",
              " 'hello': 1,\n",
              " 'world': 1,\n",
              " 'the': 1,\n",
              " 'good': 2,\n",
              " 'delicious': 1,\n",
              " 'is': 2,\n",
              " 'pizza': 1,\n",
              " 'a': 1,\n",
              " 'people': 1}"
            ]
          },
          "metadata": {},
          "execution_count": 8
        }
      ]
    },
    {
      "cell_type": "markdown",
      "source": [
        "TF Function"
      ],
      "metadata": {
        "id": "DCH6EFI77N9v"
      }
    },
    {
      "cell_type": "code",
      "source": [
        "def tf(document, word):\n",
        "    N = len(document)\n",
        "    occurance = len([token for token in document if token == word])\n",
        "    return occurance/N"
      ],
      "metadata": {
        "id": "tQeGLsrj58Hh"
      },
      "execution_count": 14,
      "outputs": []
    },
    {
      "cell_type": "markdown",
      "source": [
        "IDF Function"
      ],
      "metadata": {
        "id": "ePdEJ5BR7-aM"
      }
    },
    {
      "cell_type": "code",
      "source": [
        "def idf(word):\n",
        "    try:\n",
        "        word_occurance = word_count[word] + 1\n",
        "    except:\n",
        "        word_occurance = 1\n",
        "    return np.log(total_documents/word_occurance)"
      ],
      "metadata": {
        "id": "HM7ksU8n7ehW"
      },
      "execution_count": 10,
      "outputs": []
    },
    {
      "cell_type": "markdown",
      "source": [
        "combine TF-IDF Function"
      ],
      "metadata": {
        "id": "QgQDUO0_99gF"
      }
    },
    {
      "cell_type": "code",
      "source": [
        "def tf_idf(sentence):\n",
        "    tf_idf_vec = np.zeros((len(word_set),))\n",
        "    for word in sentence:\n",
        "        term_freq = tf(sentence,word)\n",
        "        inverse_doc_freq = idf(word)\n",
        "\n",
        "        value = term_freq*inverse_doc_freq\n",
        "        tf_idf_vec[index_dict[word]] = value\n",
        "    return tf_idf_vec"
      ],
      "metadata": {
        "id": "sSXkjGWI9Kbv"
      },
      "execution_count": 11,
      "outputs": []
    },
    {
      "cell_type": "code",
      "source": [
        "vectors = []\n",
        "for sent in doc:\n",
        "    vec = tf_idf(sent)\n",
        "    vectors.append(vec)\n",
        "\n",
        "print(vectors[0])"
      ],
      "metadata": {
        "colab": {
          "base_uri": "https://localhost:8080/"
        },
        "id": "sMSx-z529LBT",
        "outputId": "462e0d4d-6199-431e-b870-c5a4ec4adf51"
      },
      "execution_count": 12,
      "outputs": [
        {
          "output_type": "stream",
          "name": "stdout",
          "text": [
            "[0.         0.0851376  0.         0.         0.         0.15271512\n",
            " 0.         0.         0.         0.         0.         0.15271512\n",
            " 0.0851376  0.30543024 0.         0.        ]\n"
          ]
        }
      ]
    },
    {
      "cell_type": "code",
      "source": [],
      "metadata": {
        "id": "g1uVWlqO9qU7"
      },
      "execution_count": 12,
      "outputs": []
    }
  ]
}